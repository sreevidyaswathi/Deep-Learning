{
 "cells": [
  {
   "cell_type": "code",
   "execution_count": 251,
   "metadata": {},
   "outputs": [],
   "source": [
    "import tensorflow as tf\n",
    "import pandas as pd\n",
    "import numpy as np\n",
    "import matplotlib.pyplot as plt\n",
    "%matplotlib inline\n",
    "import seaborn as sns"
   ]
  },
  {
   "cell_type": "code",
   "execution_count": 252,
   "metadata": {},
   "outputs": [],
   "source": [
    "df=pd.read_csv('loan_data.csv')"
   ]
  },
  {
   "cell_type": "code",
   "execution_count": 253,
   "metadata": {},
   "outputs": [
    {
     "data": {
      "text/html": [
       "<div>\n",
       "<style scoped>\n",
       "    .dataframe tbody tr th:only-of-type {\n",
       "        vertical-align: middle;\n",
       "    }\n",
       "\n",
       "    .dataframe tbody tr th {\n",
       "        vertical-align: top;\n",
       "    }\n",
       "\n",
       "    .dataframe thead th {\n",
       "        text-align: right;\n",
       "    }\n",
       "</style>\n",
       "<table border=\"1\" class=\"dataframe\">\n",
       "  <thead>\n",
       "    <tr style=\"text-align: right;\">\n",
       "      <th></th>\n",
       "      <th>credit.policy</th>\n",
       "      <th>purpose</th>\n",
       "      <th>int.rate</th>\n",
       "      <th>installment</th>\n",
       "      <th>log.annual.inc</th>\n",
       "      <th>dti</th>\n",
       "      <th>fico</th>\n",
       "      <th>days.with.cr.line</th>\n",
       "      <th>revol.bal</th>\n",
       "      <th>revol.util</th>\n",
       "      <th>inq.last.6mths</th>\n",
       "      <th>delinq.2yrs</th>\n",
       "      <th>pub.rec</th>\n",
       "      <th>not.fully.paid</th>\n",
       "    </tr>\n",
       "  </thead>\n",
       "  <tbody>\n",
       "    <tr>\n",
       "      <th>0</th>\n",
       "      <td>1</td>\n",
       "      <td>debt_consolidation</td>\n",
       "      <td>0.1189</td>\n",
       "      <td>829.10</td>\n",
       "      <td>11.350407</td>\n",
       "      <td>19.48</td>\n",
       "      <td>737</td>\n",
       "      <td>5639.958333</td>\n",
       "      <td>28854</td>\n",
       "      <td>52.1</td>\n",
       "      <td>0</td>\n",
       "      <td>0</td>\n",
       "      <td>0</td>\n",
       "      <td>0</td>\n",
       "    </tr>\n",
       "    <tr>\n",
       "      <th>1</th>\n",
       "      <td>1</td>\n",
       "      <td>credit_card</td>\n",
       "      <td>0.1071</td>\n",
       "      <td>228.22</td>\n",
       "      <td>11.082143</td>\n",
       "      <td>14.29</td>\n",
       "      <td>707</td>\n",
       "      <td>2760.000000</td>\n",
       "      <td>33623</td>\n",
       "      <td>76.7</td>\n",
       "      <td>0</td>\n",
       "      <td>0</td>\n",
       "      <td>0</td>\n",
       "      <td>0</td>\n",
       "    </tr>\n",
       "    <tr>\n",
       "      <th>2</th>\n",
       "      <td>1</td>\n",
       "      <td>debt_consolidation</td>\n",
       "      <td>0.1357</td>\n",
       "      <td>366.86</td>\n",
       "      <td>10.373491</td>\n",
       "      <td>11.63</td>\n",
       "      <td>682</td>\n",
       "      <td>4710.000000</td>\n",
       "      <td>3511</td>\n",
       "      <td>25.6</td>\n",
       "      <td>1</td>\n",
       "      <td>0</td>\n",
       "      <td>0</td>\n",
       "      <td>0</td>\n",
       "    </tr>\n",
       "    <tr>\n",
       "      <th>3</th>\n",
       "      <td>1</td>\n",
       "      <td>debt_consolidation</td>\n",
       "      <td>0.1008</td>\n",
       "      <td>162.34</td>\n",
       "      <td>11.350407</td>\n",
       "      <td>8.10</td>\n",
       "      <td>712</td>\n",
       "      <td>2699.958333</td>\n",
       "      <td>33667</td>\n",
       "      <td>73.2</td>\n",
       "      <td>1</td>\n",
       "      <td>0</td>\n",
       "      <td>0</td>\n",
       "      <td>0</td>\n",
       "    </tr>\n",
       "    <tr>\n",
       "      <th>4</th>\n",
       "      <td>1</td>\n",
       "      <td>credit_card</td>\n",
       "      <td>0.1426</td>\n",
       "      <td>102.92</td>\n",
       "      <td>11.299732</td>\n",
       "      <td>14.97</td>\n",
       "      <td>667</td>\n",
       "      <td>4066.000000</td>\n",
       "      <td>4740</td>\n",
       "      <td>39.5</td>\n",
       "      <td>0</td>\n",
       "      <td>1</td>\n",
       "      <td>0</td>\n",
       "      <td>0</td>\n",
       "    </tr>\n",
       "  </tbody>\n",
       "</table>\n",
       "</div>"
      ],
      "text/plain": [
       "   credit.policy             purpose  int.rate  installment  log.annual.inc  \\\n",
       "0              1  debt_consolidation    0.1189       829.10       11.350407   \n",
       "1              1         credit_card    0.1071       228.22       11.082143   \n",
       "2              1  debt_consolidation    0.1357       366.86       10.373491   \n",
       "3              1  debt_consolidation    0.1008       162.34       11.350407   \n",
       "4              1         credit_card    0.1426       102.92       11.299732   \n",
       "\n",
       "     dti  fico  days.with.cr.line  revol.bal  revol.util  inq.last.6mths  \\\n",
       "0  19.48   737        5639.958333      28854        52.1               0   \n",
       "1  14.29   707        2760.000000      33623        76.7               0   \n",
       "2  11.63   682        4710.000000       3511        25.6               1   \n",
       "3   8.10   712        2699.958333      33667        73.2               1   \n",
       "4  14.97   667        4066.000000       4740        39.5               0   \n",
       "\n",
       "   delinq.2yrs  pub.rec  not.fully.paid  \n",
       "0            0        0               0  \n",
       "1            0        0               0  \n",
       "2            0        0               0  \n",
       "3            0        0               0  \n",
       "4            1        0               0  "
      ]
     },
     "execution_count": 253,
     "metadata": {},
     "output_type": "execute_result"
    }
   ],
   "source": [
    "df.head()"
   ]
  },
  {
   "cell_type": "code",
   "execution_count": 254,
   "metadata": {},
   "outputs": [
    {
     "name": "stdout",
     "output_type": "stream",
     "text": [
      "<class 'pandas.core.frame.DataFrame'>\n",
      "RangeIndex: 9578 entries, 0 to 9577\n",
      "Data columns (total 14 columns):\n",
      " #   Column             Non-Null Count  Dtype  \n",
      "---  ------             --------------  -----  \n",
      " 0   credit.policy      9578 non-null   int64  \n",
      " 1   purpose            9578 non-null   object \n",
      " 2   int.rate           9578 non-null   float64\n",
      " 3   installment        9578 non-null   float64\n",
      " 4   log.annual.inc     9578 non-null   float64\n",
      " 5   dti                9578 non-null   float64\n",
      " 6   fico               9578 non-null   int64  \n",
      " 7   days.with.cr.line  9578 non-null   float64\n",
      " 8   revol.bal          9578 non-null   int64  \n",
      " 9   revol.util         9578 non-null   float64\n",
      " 10  inq.last.6mths     9578 non-null   int64  \n",
      " 11  delinq.2yrs        9578 non-null   int64  \n",
      " 12  pub.rec            9578 non-null   int64  \n",
      " 13  not.fully.paid     9578 non-null   int64  \n",
      "dtypes: float64(6), int64(7), object(1)\n",
      "memory usage: 1.0+ MB\n"
     ]
    }
   ],
   "source": [
    "df.info()"
   ]
  },
  {
   "cell_type": "code",
   "execution_count": 255,
   "metadata": {},
   "outputs": [
    {
     "data": {
      "text/plain": [
       "1    7710\n",
       "0    1868\n",
       "Name: credit.policy, dtype: int64"
      ]
     },
     "execution_count": 255,
     "metadata": {},
     "output_type": "execute_result"
    }
   ],
   "source": [
    "df['credit.policy'].value_counts()"
   ]
  },
  {
   "cell_type": "code",
   "execution_count": 256,
   "metadata": {},
   "outputs": [
    {
     "data": {
      "text/plain": [
       "debt_consolidation    3957\n",
       "all_other             2331\n",
       "credit_card           1262\n",
       "home_improvement       629\n",
       "small_business         619\n",
       "major_purchase         437\n",
       "educational            343\n",
       "Name: purpose, dtype: int64"
      ]
     },
     "execution_count": 256,
     "metadata": {},
     "output_type": "execute_result"
    }
   ],
   "source": [
    "df.purpose.value_counts()"
   ]
  },
  {
   "cell_type": "code",
   "execution_count": 257,
   "metadata": {},
   "outputs": [
    {
     "data": {
      "text/plain": [
       "credit.policy        0\n",
       "purpose              0\n",
       "int.rate             0\n",
       "installment          0\n",
       "log.annual.inc       0\n",
       "dti                  0\n",
       "fico                 0\n",
       "days.with.cr.line    0\n",
       "revol.bal            0\n",
       "revol.util           0\n",
       "inq.last.6mths       0\n",
       "delinq.2yrs          0\n",
       "pub.rec              0\n",
       "not.fully.paid       0\n",
       "dtype: int64"
      ]
     },
     "execution_count": 257,
     "metadata": {},
     "output_type": "execute_result"
    }
   ],
   "source": [
    "df.isna().sum()"
   ]
  },
  {
   "cell_type": "code",
   "execution_count": 258,
   "metadata": {},
   "outputs": [],
   "source": [
    "Purpose_dummies=pd.get_dummies(df.purpose)"
   ]
  },
  {
   "cell_type": "code",
   "execution_count": 259,
   "metadata": {},
   "outputs": [
    {
     "data": {
      "text/plain": [
       "all_other             0\n",
       "credit_card           0\n",
       "debt_consolidation    0\n",
       "educational           0\n",
       "home_improvement      0\n",
       "major_purchase        0\n",
       "small_business        0\n",
       "dtype: int64"
      ]
     },
     "execution_count": 259,
     "metadata": {},
     "output_type": "execute_result"
    }
   ],
   "source": [
    "Purpose_dummies.isna().sum()"
   ]
  },
  {
   "cell_type": "code",
   "execution_count": 260,
   "metadata": {},
   "outputs": [
    {
     "data": {
      "text/plain": [
       "credit.policy        0\n",
       "int.rate             0\n",
       "installment          0\n",
       "log.annual.inc       0\n",
       "dti                  0\n",
       "fico                 0\n",
       "days.with.cr.line    0\n",
       "revol.bal            0\n",
       "revol.util           0\n",
       "inq.last.6mths       0\n",
       "delinq.2yrs          0\n",
       "pub.rec              0\n",
       "not.fully.paid       0\n",
       "dtype: int64"
      ]
     },
     "execution_count": 260,
     "metadata": {},
     "output_type": "execute_result"
    }
   ],
   "source": [
    "loandf=df.drop('purpose',axis=1)\n",
    "loandf.isna().sum()"
   ]
  },
  {
   "cell_type": "code",
   "execution_count": 261,
   "metadata": {},
   "outputs": [],
   "source": [
    "loandf=pd.concat([loandf,Purpose_dummies],axis=1)\n",
    "loandf.rename(columns={\"not.fully.paid\":\"not_fully_paid\",\"int.rate\":\"int_rate\",\"log.annual.inc\":\"log_annual_inc\",\"days.with.cr.line\":\"days_with_cr_line\",\"revol.bal\":\"revol_bal\",\"revol.util\":\"revol_util\",\n",
    "                      \"inq.last.6mths\":\"inq_last_6mths\",\"delinq.2yrs\":\"delinq_2yrs\",\"pub.rec\":\"pub_rec\",\"credit.policy\":\"credit_policy\"},inplace=True)"
   ]
  },
  {
   "cell_type": "code",
   "execution_count": 262,
   "metadata": {},
   "outputs": [
    {
     "name": "stdout",
     "output_type": "stream",
     "text": [
      "<class 'pandas.core.frame.DataFrame'>\n",
      "RangeIndex: 9578 entries, 0 to 9577\n",
      "Data columns (total 20 columns):\n",
      " #   Column              Non-Null Count  Dtype  \n",
      "---  ------              --------------  -----  \n",
      " 0   credit_policy       9578 non-null   int64  \n",
      " 1   int_rate            9578 non-null   float64\n",
      " 2   installment         9578 non-null   float64\n",
      " 3   log_annual_inc      9578 non-null   float64\n",
      " 4   dti                 9578 non-null   float64\n",
      " 5   fico                9578 non-null   int64  \n",
      " 6   days_with_cr_line   9578 non-null   float64\n",
      " 7   revol_bal           9578 non-null   int64  \n",
      " 8   revol_util          9578 non-null   float64\n",
      " 9   inq_last_6mths      9578 non-null   int64  \n",
      " 10  delinq_2yrs         9578 non-null   int64  \n",
      " 11  pub_rec             9578 non-null   int64  \n",
      " 12  not_fully_paid      9578 non-null   int64  \n",
      " 13  all_other           9578 non-null   uint8  \n",
      " 14  credit_card         9578 non-null   uint8  \n",
      " 15  debt_consolidation  9578 non-null   uint8  \n",
      " 16  educational         9578 non-null   uint8  \n",
      " 17  home_improvement    9578 non-null   uint8  \n",
      " 18  major_purchase      9578 non-null   uint8  \n",
      " 19  small_business      9578 non-null   uint8  \n",
      "dtypes: float64(6), int64(7), uint8(7)\n",
      "memory usage: 1.0 MB\n"
     ]
    }
   ],
   "source": [
    "loandf.info()"
   ]
  },
  {
   "cell_type": "code",
   "execution_count": 263,
   "metadata": {},
   "outputs": [
    {
     "data": {
      "text/plain": [
       "(9578, 9578)"
      ]
     },
     "execution_count": 263,
     "metadata": {},
     "output_type": "execute_result"
    }
   ],
   "source": [
    "loandf.shape[0], len(loandf['credit_policy'].values)\n"
   ]
  },
  {
   "cell_type": "code",
   "execution_count": 264,
   "metadata": {},
   "outputs": [
    {
     "data": {
      "text/plain": [
       "[<matplotlib.lines.Line2D at 0x7f5e89b46850>]"
      ]
     },
     "execution_count": 264,
     "metadata": {},
     "output_type": "execute_result"
    },
    {
     "data": {
      "image/png": "[encoded data removed]",
      "text/plain": [
       "<Figure size 432x288 with 1 Axes>"
      ]
     },
     "metadata": {
      "needs_background": "light"
     },
     "output_type": "display_data"
    }
   ],
   "source": [
    "#This plot shows that the dataset is clearly imbalanced\n",
    "plt.plot(range(0,loandf.shape[0]),loandf['credit_policy'].values)"
   ]
  },
  {
   "cell_type": "code",
   "execution_count": 265,
   "metadata": {},
   "outputs": [],
   "source": [
    "#SMOTE Technique applied on minority class\n",
    "#SMOTE- Synthetic Minority OverSampling Technique\n",
    "import imblearn\n",
    "oversample=imblearn.over_sampling.SMOTE()"
   ]
  },
  {
   "cell_type": "code",
   "execution_count": 266,
   "metadata": {},
   "outputs": [],
   "source": [
    "X=loandf.drop('credit_policy',axis=1)\n",
    "y=loandf['credit_policy']\n",
    "X,y=oversample.fit_resample(X,y)"
   ]
  },
  {
   "cell_type": "code",
   "execution_count": 267,
   "metadata": {},
   "outputs": [
    {
     "data": {
      "text/plain": [
       "((15420, 19), (15420,))"
      ]
     },
     "execution_count": 267,
     "metadata": {},
     "output_type": "execute_result"
    }
   ],
   "source": [
    "X.shape,y.shape"
   ]
  },
  {
   "cell_type": "code",
   "execution_count": 268,
   "metadata": {},
   "outputs": [
    {
     "data": {
      "text/plain": [
       "1    7710\n",
       "0    7710\n",
       "Name: credit_policy, dtype: int64"
      ]
     },
     "execution_count": 268,
     "metadata": {},
     "output_type": "execute_result"
    }
   ],
   "source": [
    "y.value_counts()"
   ]
  },
  {
   "cell_type": "code",
   "execution_count": 269,
   "metadata": {},
   "outputs": [
    {
     "data": {
      "text/plain": [
       "[<matplotlib.lines.Line2D at 0x7f5e88b024d0>]"
      ]
     },
     "execution_count": 269,
     "metadata": {},
     "output_type": "execute_result"
    },
    {
     "data": {
      "image/png": "[encoded data removed]",
      "text/plain": [
       "<Figure size 432x288 with 1 Axes>"
      ]
     },
     "metadata": {
      "needs_background": "light"
     },
     "output_type": "display_data"
    }
   ],
   "source": [
    "plt.plot(range(0,y.shape[0]),y.values)"
   ]
  },
  {
   "cell_type": "code",
   "execution_count": 270,
   "metadata": {},
   "outputs": [],
   "source": [
    "loandf=pd.concat([X,y],axis=1)\n"
   ]
  },
  {
   "cell_type": "code",
   "execution_count": 271,
   "metadata": {},
   "outputs": [
    {
     "data": {
      "text/plain": [
       "'credit_policy~int_rate+installment+log_annual_inc+dti+fico+days_with_cr_line+revol_bal+revol_util+inq_last_6mths+delinq_2yrs+pub_rec+not_fully_paid+all_other+credit_card+debt_consolidation+educational+home_improvement+major_purchase+small_business'"
      ]
     },
     "execution_count": 271,
     "metadata": {},
     "output_type": "execute_result"
    }
   ],
   "source": [
    "import statsmodels.formula.api as sm\n",
    "formula = 'credit_policy~' + \"+\".join(X.columns)\n",
    "formula"
   ]
  },
  {
   "cell_type": "code",
   "execution_count": 272,
   "metadata": {},
   "outputs": [],
   "source": [
    "lire = sm.ols(formula=formula, data=loandf).fit()"
   ]
  },
  {
   "cell_type": "code",
   "execution_count": 273,
   "metadata": {},
   "outputs": [
    {
     "data": {
      "text/html": [
       "<table class=\"simpletable\">\n",
       "<caption>OLS Regression Results</caption>\n",
       "<tr>\n",
       "  <th>Dep. Variable:</th>      <td>credit_policy</td>  <th>  R-squared:         </th> <td>   0.579</td>\n",
       "</tr>\n",
       "<tr>\n",
       "  <th>Model:</th>                   <td>OLS</td>       <th>  Adj. R-squared:    </th> <td>   0.578</td>\n",
       "</tr>\n",
       "<tr>\n",
       "  <th>Method:</th>             <td>Least Squares</td>  <th>  F-statistic:       </th> <td>   1113.</td>\n",
       "</tr>\n",
       "<tr>\n",
       "  <th>Date:</th>             <td>Tue, 10 Nov 2020</td> <th>  Prob (F-statistic):</th>  <td>  0.00</td> \n",
       "</tr>\n",
       "<tr>\n",
       "  <th>Time:</th>                 <td>04:53:18</td>     <th>  Log-Likelihood:    </th> <td> -4528.5</td>\n",
       "</tr>\n",
       "<tr>\n",
       "  <th>No. Observations:</th>      <td> 15420</td>      <th>  AIC:               </th> <td>   9097.</td>\n",
       "</tr>\n",
       "<tr>\n",
       "  <th>Df Residuals:</th>          <td> 15400</td>      <th>  BIC:               </th> <td>   9250.</td>\n",
       "</tr>\n",
       "<tr>\n",
       "  <th>Df Model:</th>              <td>    19</td>      <th>                     </th>     <td> </td>   \n",
       "</tr>\n",
       "<tr>\n",
       "  <th>Covariance Type:</th>      <td>nonrobust</td>    <th>                     </th>     <td> </td>   \n",
       "</tr>\n",
       "</table>\n",
       "<table class=\"simpletable\">\n",
       "<tr>\n",
       "           <td></td>             <th>coef</th>     <th>std err</th>      <th>t</th>      <th>P>|t|</th>  <th>[0.025</th>    <th>0.975]</th>  \n",
       "</tr>\n",
       "<tr>\n",
       "  <th>Intercept</th>          <td>   -2.6484</td> <td>    0.116</td> <td>  -22.822</td> <td> 0.000</td> <td>   -2.876</td> <td>   -2.421</td>\n",
       "</tr>\n",
       "<tr>\n",
       "  <th>int_rate</th>           <td>   -1.0541</td> <td>    0.166</td> <td>   -6.366</td> <td> 0.000</td> <td>   -1.379</td> <td>   -0.730</td>\n",
       "</tr>\n",
       "<tr>\n",
       "  <th>installment</th>        <td>    0.0001</td> <td> 1.73e-05</td> <td>    7.090</td> <td> 0.000</td> <td> 8.88e-05</td> <td>    0.000</td>\n",
       "</tr>\n",
       "<tr>\n",
       "  <th>log_annual_inc</th>     <td>    0.0456</td> <td>    0.005</td> <td>    8.383</td> <td> 0.000</td> <td>    0.035</td> <td>    0.056</td>\n",
       "</tr>\n",
       "<tr>\n",
       "  <th>dti</th>                <td>   -0.0002</td> <td>    0.000</td> <td>   -0.399</td> <td> 0.690</td> <td>   -0.001</td> <td>    0.001</td>\n",
       "</tr>\n",
       "<tr>\n",
       "  <th>fico</th>               <td>    0.0036</td> <td>    0.000</td> <td>   27.902</td> <td> 0.000</td> <td>    0.003</td> <td>    0.004</td>\n",
       "</tr>\n",
       "<tr>\n",
       "  <th>days_with_cr_line</th>  <td> 3.847e-06</td> <td> 1.23e-06</td> <td>    3.137</td> <td> 0.002</td> <td> 1.44e-06</td> <td> 6.25e-06</td>\n",
       "</tr>\n",
       "<tr>\n",
       "  <th>revol_bal</th>          <td>-1.984e-06</td> <td> 6.26e-08</td> <td>  -31.709</td> <td> 0.000</td> <td>-2.11e-06</td> <td>-1.86e-06</td>\n",
       "</tr>\n",
       "<tr>\n",
       "  <th>revol_util</th>         <td>    0.0011</td> <td>    0.000</td> <td>    9.391</td> <td> 0.000</td> <td>    0.001</td> <td>    0.001</td>\n",
       "</tr>\n",
       "<tr>\n",
       "  <th>inq_last_6mths</th>     <td>   -0.0571</td> <td>    0.001</td> <td>  -53.527</td> <td> 0.000</td> <td>   -0.059</td> <td>   -0.055</td>\n",
       "</tr>\n",
       "<tr>\n",
       "  <th>delinq_2yrs</th>        <td>    0.0165</td> <td>    0.005</td> <td>    3.239</td> <td> 0.001</td> <td>    0.007</td> <td>    0.026</td>\n",
       "</tr>\n",
       "<tr>\n",
       "  <th>pub_rec</th>            <td>    0.0651</td> <td>    0.012</td> <td>    5.574</td> <td> 0.000</td> <td>    0.042</td> <td>    0.088</td>\n",
       "</tr>\n",
       "<tr>\n",
       "  <th>not_fully_paid</th>     <td>    0.0180</td> <td>    0.008</td> <td>    2.275</td> <td> 0.023</td> <td>    0.002</td> <td>    0.033</td>\n",
       "</tr>\n",
       "<tr>\n",
       "  <th>all_other</th>          <td>    0.4224</td> <td>    0.009</td> <td>   49.474</td> <td> 0.000</td> <td>    0.406</td> <td>    0.439</td>\n",
       "</tr>\n",
       "<tr>\n",
       "  <th>credit_card</th>        <td>    0.4890</td> <td>    0.011</td> <td>   45.878</td> <td> 0.000</td> <td>    0.468</td> <td>    0.510</td>\n",
       "</tr>\n",
       "<tr>\n",
       "  <th>debt_consolidation</th> <td>    0.4439</td> <td>    0.007</td> <td>   60.011</td> <td> 0.000</td> <td>    0.429</td> <td>    0.458</td>\n",
       "</tr>\n",
       "<tr>\n",
       "  <th>educational</th>        <td>    0.4843</td> <td>    0.018</td> <td>   26.983</td> <td> 0.000</td> <td>    0.449</td> <td>    0.519</td>\n",
       "</tr>\n",
       "<tr>\n",
       "  <th>home_improvement</th>   <td>    0.5002</td> <td>    0.014</td> <td>   34.982</td> <td> 0.000</td> <td>    0.472</td> <td>    0.528</td>\n",
       "</tr>\n",
       "<tr>\n",
       "  <th>major_purchase</th>     <td>    0.5337</td> <td>    0.017</td> <td>   32.005</td> <td> 0.000</td> <td>    0.501</td> <td>    0.566</td>\n",
       "</tr>\n",
       "<tr>\n",
       "  <th>small_business</th>     <td>    0.5326</td> <td>    0.014</td> <td>   36.833</td> <td> 0.000</td> <td>    0.504</td> <td>    0.561</td>\n",
       "</tr>\n",
       "</table>\n",
       "<table class=\"simpletable\">\n",
       "<tr>\n",
       "  <th>Omnibus:</th>       <td>412.832</td> <th>  Durbin-Watson:     </th> <td>   0.968</td>\n",
       "</tr>\n",
       "<tr>\n",
       "  <th>Prob(Omnibus):</th> <td> 0.000</td>  <th>  Jarque-Bera (JB):  </th> <td> 446.035</td>\n",
       "</tr>\n",
       "<tr>\n",
       "  <th>Skew:</th>          <td>-0.414</td>  <th>  Prob(JB):          </th> <td>1.40e-97</td>\n",
       "</tr>\n",
       "<tr>\n",
       "  <th>Kurtosis:</th>      <td> 3.091</td>  <th>  Cond. No.          </th> <td>3.84e+06</td>\n",
       "</tr>\n",
       "</table><br/><br/>Warnings:<br/>[1] Standard Errors assume that the covariance matrix of the errors is correctly specified.<br/>[2] The condition number is large, 3.84e+06. This might indicate that there are<br/>strong multicollinearity or other numerical problems."
      ],
      "text/plain": [
       "<class 'statsmodels.iolib.summary.Summary'>\n",
       "\"\"\"\n",
       "                            OLS Regression Results                            \n",
       "==============================================================================\n",
       "Dep. Variable:          credit_policy   R-squared:                       0.579\n",
       "Model:                            OLS   Adj. R-squared:                  0.578\n",
       "Method:                 Least Squares   F-statistic:                     1113.\n",
       "Date:                Tue, 10 Nov 2020   Prob (F-statistic):               0.00\n",
       "Time:                        04:53:18   Log-Likelihood:                -4528.5\n",
       "No. Observations:               15420   AIC:                             9097.\n",
       "Df Residuals:                   15400   BIC:                             9250.\n",
       "Df Model:                          19                                         \n",
       "Covariance Type:            nonrobust                                         \n",
       "======================================================================================\n",
       "                         coef    std err          t      P>|t|      [0.025      0.975]\n",
       "--------------------------------------------------------------------------------------\n",
       "Intercept             -2.6484      0.116    -22.822      0.000      -2.876      -2.421\n",
       "int_rate              -1.0541      0.166     -6.366      0.000      -1.379      -0.730\n",
       "installment            0.0001   1.73e-05      7.090      0.000    8.88e-05       0.000\n",
       "log_annual_inc         0.0456      0.005      8.383      0.000       0.035       0.056\n",
       "dti                   -0.0002      0.000     -0.399      0.690      -0.001       0.001\n",
       "fico                   0.0036      0.000     27.902      0.000       0.003       0.004\n",
       "days_with_cr_line   3.847e-06   1.23e-06      3.137      0.002    1.44e-06    6.25e-06\n",
       "revol_bal          -1.984e-06   6.26e-08    -31.709      0.000   -2.11e-06   -1.86e-06\n",
       "revol_util             0.0011      0.000      9.391      0.000       0.001       0.001\n",
       "inq_last_6mths        -0.0571      0.001    -53.527      0.000      -0.059      -0.055\n",
       "delinq_2yrs            0.0165      0.005      3.239      0.001       0.007       0.026\n",
       "pub_rec                0.0651      0.012      5.574      0.000       0.042       0.088\n",
       "not_fully_paid         0.0180      0.008      2.275      0.023       0.002       0.033\n",
       "all_other              0.4224      0.009     49.474      0.000       0.406       0.439\n",
       "credit_card            0.4890      0.011     45.878      0.000       0.468       0.510\n",
       "debt_consolidation     0.4439      0.007     60.011      0.000       0.429       0.458\n",
       "educational            0.4843      0.018     26.983      0.000       0.449       0.519\n",
       "home_improvement       0.5002      0.014     34.982      0.000       0.472       0.528\n",
       "major_purchase         0.5337      0.017     32.005      0.000       0.501       0.566\n",
       "small_business         0.5326      0.014     36.833      0.000       0.504       0.561\n",
       "==============================================================================\n",
       "Omnibus:                      412.832   Durbin-Watson:                   0.968\n",
       "Prob(Omnibus):                  0.000   Jarque-Bera (JB):              446.035\n",
       "Skew:                          -0.414   Prob(JB):                     1.40e-97\n",
       "Kurtosis:                       3.091   Cond. No.                     3.84e+06\n",
       "==============================================================================\n",
       "\n",
       "Warnings:\n",
       "[1] Standard Errors assume that the covariance matrix of the errors is correctly specified.\n",
       "[2] The condition number is large, 3.84e+06. This might indicate that there are\n",
       "strong multicollinearity or other numerical problems.\n",
       "\"\"\""
      ]
     },
     "execution_count": 273,
     "metadata": {},
     "output_type": "execute_result"
    }
   ],
   "source": [
    "lire.summary()"
   ]
  },
  {
   "cell_type": "code",
   "execution_count": 274,
   "metadata": {},
   "outputs": [
    {
     "data": {
      "text/plain": [
       "dti    0.69025\n",
       "dtype: float64"
      ]
     },
     "execution_count": 274,
     "metadata": {},
     "output_type": "execute_result"
    }
   ],
   "source": [
    "lire.pvalues[lire.pvalues>0.05]"
   ]
  },
  {
   "cell_type": "code",
   "execution_count": 275,
   "metadata": {},
   "outputs": [],
   "source": [
    "#This shows that feature 'dti','not_fully_paid' is not significantly correlated to label \"credit_policy\", So we can drop \n",
    "# the feature \"dti\",\"not_fully_paid\""
   ]
  },
  {
   "cell_type": "code",
   "execution_count": 276,
   "metadata": {},
   "outputs": [],
   "source": [
    "loandf=loandf.drop([\"dti\",\"not_fully_paid\"],axis=1)"
   ]
  },
  {
   "cell_type": "code",
   "execution_count": 277,
   "metadata": {},
   "outputs": [
    {
     "data": {
      "text/plain": [
       "<AxesSubplot:>"
      ]
     },
     "execution_count": 277,
     "metadata": {},
     "output_type": "execute_result"
    },
    {
     "data": {
      "image/png": "[encoded data removed]",
      "text/plain": [
       "<Figure size 432x288 with 2 Axes>"
      ]
     },
     "metadata": {
      "needs_background": "light"
     },
     "output_type": "display_data"
    }
   ],
   "source": [
    "sns.heatmap(loandf.iloc[:,:].corr(), square=True, cmap='RdYlGn')"
   ]
  },
  {
   "cell_type": "code",
   "execution_count": 278,
   "metadata": {},
   "outputs": [
    {
     "data": {
      "text/plain": [
       "Index(['int_rate', 'installment', 'log_annual_inc', 'fico',\n",
       "       'days_with_cr_line', 'revol_bal', 'revol_util', 'inq_last_6mths',\n",
       "       'delinq_2yrs', 'pub_rec', 'all_other', 'credit_card',\n",
       "       'debt_consolidation', 'educational', 'home_improvement',\n",
       "       'major_purchase', 'small_business', 'credit_policy'],\n",
       "      dtype='object')"
      ]
     },
     "execution_count": 278,
     "metadata": {},
     "output_type": "execute_result"
    }
   ],
   "source": [
    "loandf.columns"
   ]
  },
  {
   "cell_type": "code",
   "execution_count": 279,
   "metadata": {},
   "outputs": [
    {
     "data": {
      "text/plain": [
       "<AxesSubplot:>"
      ]
     },
     "execution_count": 279,
     "metadata": {},
     "output_type": "execute_result"
    },
    {
     "data": {
      "image/png": "[encoded data removed]",
      "text/plain": [
       "<Figure size 432x288 with 2 Axes>"
      ]
     },
     "metadata": {
      "needs_background": "light"
     },
     "output_type": "display_data"
    }
   ],
   "source": [
    "sns.heatmap(loandf.iloc[:,0:7].corr(),square=True,cmap='RdYlGn',annot=True)"
   ]
  },
  {
   "cell_type": "code",
   "execution_count": 280,
   "metadata": {},
   "outputs": [],
   "source": [
    "#as seen from the above heatmap, there are no considerably highly correlated features, So retaining all of them"
   ]
  },
  {
   "cell_type": "code",
   "execution_count": 281,
   "metadata": {},
   "outputs": [],
   "source": [
    "X=loandf.drop('credit_policy',axis=1)"
   ]
  },
  {
   "cell_type": "code",
   "execution_count": 282,
   "metadata": {},
   "outputs": [
    {
     "data": {
      "text/plain": [
       "'credit_policy~int_rate+installment+log_annual_inc+fico+days_with_cr_line+revol_bal+revol_util+inq_last_6mths+delinq_2yrs+pub_rec+all_other+credit_card+debt_consolidation+educational+home_improvement+major_purchase+small_business'"
      ]
     },
     "execution_count": 282,
     "metadata": {},
     "output_type": "execute_result"
    }
   ],
   "source": [
    "formula = 'credit_policy~' + \"+\".join(X.columns)\n",
    "formula"
   ]
  },
  {
   "cell_type": "code",
   "execution_count": 283,
   "metadata": {},
   "outputs": [
    {
     "data": {
      "text/html": [
       "<table class=\"simpletable\">\n",
       "<caption>OLS Regression Results</caption>\n",
       "<tr>\n",
       "  <th>Dep. Variable:</th>      <td>credit_policy</td>  <th>  R-squared:         </th> <td>   0.578</td>\n",
       "</tr>\n",
       "<tr>\n",
       "  <th>Model:</th>                   <td>OLS</td>       <th>  Adj. R-squared:    </th> <td>   0.578</td>\n",
       "</tr>\n",
       "<tr>\n",
       "  <th>Method:</th>             <td>Least Squares</td>  <th>  F-statistic:       </th> <td>   1243.</td>\n",
       "</tr>\n",
       "<tr>\n",
       "  <th>Date:</th>             <td>Tue, 10 Nov 2020</td> <th>  Prob (F-statistic):</th>  <td>  0.00</td> \n",
       "</tr>\n",
       "<tr>\n",
       "  <th>Time:</th>                 <td>04:53:19</td>     <th>  Log-Likelihood:    </th> <td> -4531.2</td>\n",
       "</tr>\n",
       "<tr>\n",
       "  <th>No. Observations:</th>      <td> 15420</td>      <th>  AIC:               </th> <td>   9098.</td>\n",
       "</tr>\n",
       "<tr>\n",
       "  <th>Df Residuals:</th>          <td> 15402</td>      <th>  BIC:               </th> <td>   9236.</td>\n",
       "</tr>\n",
       "<tr>\n",
       "  <th>Df Model:</th>              <td>    17</td>      <th>                     </th>     <td> </td>   \n",
       "</tr>\n",
       "<tr>\n",
       "  <th>Covariance Type:</th>      <td>nonrobust</td>    <th>                     </th>     <td> </td>   \n",
       "</tr>\n",
       "</table>\n",
       "<table class=\"simpletable\">\n",
       "<tr>\n",
       "           <td></td>             <th>coef</th>     <th>std err</th>      <th>t</th>      <th>P>|t|</th>  <th>[0.025</th>    <th>0.975]</th>  \n",
       "</tr>\n",
       "<tr>\n",
       "  <th>Intercept</th>          <td>   -2.6297</td> <td>    0.116</td> <td>  -22.736</td> <td> 0.000</td> <td>   -2.856</td> <td>   -2.403</td>\n",
       "</tr>\n",
       "<tr>\n",
       "  <th>int_rate</th>           <td>   -1.0640</td> <td>    0.164</td> <td>   -6.484</td> <td> 0.000</td> <td>   -1.386</td> <td>   -0.742</td>\n",
       "</tr>\n",
       "<tr>\n",
       "  <th>installment</th>        <td>    0.0001</td> <td> 1.73e-05</td> <td>    7.302</td> <td> 0.000</td> <td> 9.22e-05</td> <td>    0.000</td>\n",
       "</tr>\n",
       "<tr>\n",
       "  <th>log_annual_inc</th>     <td>    0.0449</td> <td>    0.005</td> <td>    8.317</td> <td> 0.000</td> <td>    0.034</td> <td>    0.056</td>\n",
       "</tr>\n",
       "<tr>\n",
       "  <th>fico</th>               <td>    0.0036</td> <td>    0.000</td> <td>   27.813</td> <td> 0.000</td> <td>    0.003</td> <td>    0.004</td>\n",
       "</tr>\n",
       "<tr>\n",
       "  <th>days_with_cr_line</th>  <td> 3.825e-06</td> <td> 1.21e-06</td> <td>    3.152</td> <td> 0.002</td> <td> 1.45e-06</td> <td>  6.2e-06</td>\n",
       "</tr>\n",
       "<tr>\n",
       "  <th>revol_bal</th>          <td>-1.981e-06</td> <td> 6.19e-08</td> <td>  -32.013</td> <td> 0.000</td> <td> -2.1e-06</td> <td>-1.86e-06</td>\n",
       "</tr>\n",
       "<tr>\n",
       "  <th>revol_util</th>         <td>    0.0011</td> <td>    0.000</td> <td>    9.562</td> <td> 0.000</td> <td>    0.001</td> <td>    0.001</td>\n",
       "</tr>\n",
       "<tr>\n",
       "  <th>inq_last_6mths</th>     <td>   -0.0569</td> <td>    0.001</td> <td>  -53.538</td> <td> 0.000</td> <td>   -0.059</td> <td>   -0.055</td>\n",
       "</tr>\n",
       "<tr>\n",
       "  <th>delinq_2yrs</th>        <td>    0.0164</td> <td>    0.005</td> <td>    3.237</td> <td> 0.001</td> <td>    0.006</td> <td>    0.026</td>\n",
       "</tr>\n",
       "<tr>\n",
       "  <th>pub_rec</th>            <td>    0.0662</td> <td>    0.012</td> <td>    5.669</td> <td> 0.000</td> <td>    0.043</td> <td>    0.089</td>\n",
       "</tr>\n",
       "<tr>\n",
       "  <th>all_other</th>          <td>    0.4247</td> <td>    0.008</td> <td>   50.138</td> <td> 0.000</td> <td>    0.408</td> <td>    0.441</td>\n",
       "</tr>\n",
       "<tr>\n",
       "  <th>credit_card</th>        <td>    0.4899</td> <td>    0.011</td> <td>   46.035</td> <td> 0.000</td> <td>    0.469</td> <td>    0.511</td>\n",
       "</tr>\n",
       "<tr>\n",
       "  <th>debt_consolidation</th> <td>    0.4449</td> <td>    0.007</td> <td>   60.367</td> <td> 0.000</td> <td>    0.430</td> <td>    0.459</td>\n",
       "</tr>\n",
       "<tr>\n",
       "  <th>educational</th>        <td>    0.4870</td> <td>    0.018</td> <td>   27.193</td> <td> 0.000</td> <td>    0.452</td> <td>    0.522</td>\n",
       "</tr>\n",
       "<tr>\n",
       "  <th>home_improvement</th>   <td>    0.5030</td> <td>    0.014</td> <td>   35.319</td> <td> 0.000</td> <td>    0.475</td> <td>    0.531</td>\n",
       "</tr>\n",
       "<tr>\n",
       "  <th>major_purchase</th>     <td>    0.5357</td> <td>    0.017</td> <td>   32.171</td> <td> 0.000</td> <td>    0.503</td> <td>    0.568</td>\n",
       "</tr>\n",
       "<tr>\n",
       "  <th>small_business</th>     <td>    0.5369</td> <td>    0.014</td> <td>   37.491</td> <td> 0.000</td> <td>    0.509</td> <td>    0.565</td>\n",
       "</tr>\n",
       "</table>\n",
       "<table class=\"simpletable\">\n",
       "<tr>\n",
       "  <th>Omnibus:</th>       <td>413.463</td> <th>  Durbin-Watson:     </th> <td>   0.970</td>\n",
       "</tr>\n",
       "<tr>\n",
       "  <th>Prob(Omnibus):</th> <td> 0.000</td>  <th>  Jarque-Bera (JB):  </th> <td> 446.774</td>\n",
       "</tr>\n",
       "<tr>\n",
       "  <th>Skew:</th>          <td>-0.415</td>  <th>  Prob(JB):          </th> <td>9.65e-98</td>\n",
       "</tr>\n",
       "<tr>\n",
       "  <th>Kurtosis:</th>      <td> 3.090</td>  <th>  Cond. No.          </th> <td>3.82e+06</td>\n",
       "</tr>\n",
       "</table><br/><br/>Warnings:<br/>[1] Standard Errors assume that the covariance matrix of the errors is correctly specified.<br/>[2] The condition number is large, 3.82e+06. This might indicate that there are<br/>strong multicollinearity or other numerical problems."
      ],
      "text/plain": [
       "<class 'statsmodels.iolib.summary.Summary'>\n",
       "\"\"\"\n",
       "                            OLS Regression Results                            \n",
       "==============================================================================\n",
       "Dep. Variable:          credit_policy   R-squared:                       0.578\n",
       "Model:                            OLS   Adj. R-squared:                  0.578\n",
       "Method:                 Least Squares   F-statistic:                     1243.\n",
       "Date:                Tue, 10 Nov 2020   Prob (F-statistic):               0.00\n",
       "Time:                        04:53:19   Log-Likelihood:                -4531.2\n",
       "No. Observations:               15420   AIC:                             9098.\n",
       "Df Residuals:                   15402   BIC:                             9236.\n",
       "Df Model:                          17                                         \n",
       "Covariance Type:            nonrobust                                         \n",
       "======================================================================================\n",
       "                         coef    std err          t      P>|t|      [0.025      0.975]\n",
       "--------------------------------------------------------------------------------------\n",
       "Intercept             -2.6297      0.116    -22.736      0.000      -2.856      -2.403\n",
       "int_rate              -1.0640      0.164     -6.484      0.000      -1.386      -0.742\n",
       "installment            0.0001   1.73e-05      7.302      0.000    9.22e-05       0.000\n",
       "log_annual_inc         0.0449      0.005      8.317      0.000       0.034       0.056\n",
       "fico                   0.0036      0.000     27.813      0.000       0.003       0.004\n",
       "days_with_cr_line   3.825e-06   1.21e-06      3.152      0.002    1.45e-06     6.2e-06\n",
       "revol_bal          -1.981e-06   6.19e-08    -32.013      0.000    -2.1e-06   -1.86e-06\n",
       "revol_util             0.0011      0.000      9.562      0.000       0.001       0.001\n",
       "inq_last_6mths        -0.0569      0.001    -53.538      0.000      -0.059      -0.055\n",
       "delinq_2yrs            0.0164      0.005      3.237      0.001       0.006       0.026\n",
       "pub_rec                0.0662      0.012      5.669      0.000       0.043       0.089\n",
       "all_other              0.4247      0.008     50.138      0.000       0.408       0.441\n",
       "credit_card            0.4899      0.011     46.035      0.000       0.469       0.511\n",
       "debt_consolidation     0.4449      0.007     60.367      0.000       0.430       0.459\n",
       "educational            0.4870      0.018     27.193      0.000       0.452       0.522\n",
       "home_improvement       0.5030      0.014     35.319      0.000       0.475       0.531\n",
       "major_purchase         0.5357      0.017     32.171      0.000       0.503       0.568\n",
       "small_business         0.5369      0.014     37.491      0.000       0.509       0.565\n",
       "==============================================================================\n",
       "Omnibus:                      413.463   Durbin-Watson:                   0.970\n",
       "Prob(Omnibus):                  0.000   Jarque-Bera (JB):              446.774\n",
       "Skew:                          -0.415   Prob(JB):                     9.65e-98\n",
       "Kurtosis:                       3.090   Cond. No.                     3.82e+06\n",
       "==============================================================================\n",
       "\n",
       "Warnings:\n",
       "[1] Standard Errors assume that the covariance matrix of the errors is correctly specified.\n",
       "[2] The condition number is large, 3.82e+06. This might indicate that there are\n",
       "strong multicollinearity or other numerical problems.\n",
       "\"\"\""
      ]
     },
     "execution_count": 283,
     "metadata": {},
     "output_type": "execute_result"
    }
   ],
   "source": [
    "lire = sm.ols(formula=formula, data=loandf).fit()\n",
    "lire.summary()"
   ]
  },
  {
   "cell_type": "code",
   "execution_count": 284,
   "metadata": {},
   "outputs": [],
   "source": [
    "model=tf.keras.models.Sequential()"
   ]
  },
  {
   "cell_type": "code",
   "execution_count": 285,
   "metadata": {},
   "outputs": [],
   "source": [
    "X=loandf.drop(\"credit_policy\",axis=1)\n",
    "y=loandf.credit_policy"
   ]
  },
  {
   "cell_type": "code",
   "execution_count": 286,
   "metadata": {},
   "outputs": [],
   "source": [
    "model.add(tf.keras.layers.BatchNormalization(input_shape=(17,)))"
   ]
  },
  {
   "cell_type": "code",
   "execution_count": 287,
   "metadata": {},
   "outputs": [],
   "source": [
    "# Adding Hidden layers\n",
    "\n",
    "model.add(tf.keras.layers.Dense(8, activation='tanh'))\n",
    "model.add(tf.keras.layers.Dense(8, activation='tanh'))"
   ]
  },
  {
   "cell_type": "code",
   "execution_count": 288,
   "metadata": {},
   "outputs": [],
   "source": [
    "model.add(tf.keras.layers.Dense(7, activation = 'relu'))\n",
    "model.add(tf.keras.layers.Dense(1, activation='sigmoid'))"
   ]
  },
  {
   "cell_type": "code",
   "execution_count": 289,
   "metadata": {},
   "outputs": [],
   "source": [
    "model.compile(optimizer='sgd', loss='binary_crossentropy',metrics=[\"accuracy\"])"
   ]
  },
  {
   "cell_type": "code",
   "execution_count": 290,
   "metadata": {},
   "outputs": [],
   "source": [
    "from sklearn.model_selection import train_test_split\n",
    "X_train,X_test,y_train,y_test=train_test_split(X,y,test_size=0.3,random_state=42)"
   ]
  },
  {
   "cell_type": "code",
   "execution_count": 291,
   "metadata": {},
   "outputs": [
    {
     "name": "stdout",
     "output_type": "stream",
     "text": [
      "Train on 10794 samples, validate on 4626 samples\n",
      "Epoch 1/50\n",
      "10794/10794 [==============================] - 1s 69us/sample - loss: 0.6685 - accuracy: 0.5395 - val_loss: 0.6969 - val_accuracy: 0.5136\n",
      "Epoch 2/50\n",
      "10794/10794 [==============================] - 0s 33us/sample - loss: 0.6092 - accuracy: 0.7208 - val_loss: 0.5963 - val_accuracy: 0.7105\n",
      "Epoch 3/50\n",
      "10794/10794 [==============================] - 0s 32us/sample - loss: 0.5459 - accuracy: 0.7801 - val_loss: 0.5237 - val_accuracy: 0.7866\n",
      "Epoch 4/50\n",
      "10794/10794 [==============================] - 0s 33us/sample - loss: 0.4824 - accuracy: 0.8137 - val_loss: 0.4545 - val_accuracy: 0.8256\n",
      "Epoch 5/50\n",
      "10794/10794 [==============================] - 0s 33us/sample - loss: 0.4206 - accuracy: 0.8418 - val_loss: 0.3867 - val_accuracy: 0.8513\n",
      "Epoch 6/50\n",
      "10794/10794 [==============================] - 0s 32us/sample - loss: 0.3648 - accuracy: 0.8589 - val_loss: 0.3295 - val_accuracy: 0.8718\n",
      "Epoch 7/50\n",
      "10794/10794 [==============================] - 0s 32us/sample - loss: 0.3195 - accuracy: 0.8728 - val_loss: 0.2921 - val_accuracy: 0.8818\n",
      "Epoch 8/50\n",
      "10794/10794 [==============================] - 0s 32us/sample - loss: 0.2982 - accuracy: 0.8785 - val_loss: 0.2716 - val_accuracy: 0.8885\n",
      "Epoch 9/50\n",
      "10794/10794 [==============================] - 0s 32us/sample - loss: 0.2883 - accuracy: 0.8817 - val_loss: 0.2663 - val_accuracy: 0.8882\n",
      "Epoch 10/50\n",
      "10794/10794 [==============================] - 0s 34us/sample - loss: 0.2816 - accuracy: 0.8837 - val_loss: 0.2618 - val_accuracy: 0.8885\n",
      "Epoch 11/50\n",
      "10794/10794 [==============================] - 0s 33us/sample - loss: 0.2747 - accuracy: 0.8878 - val_loss: 0.2565 - val_accuracy: 0.8904\n",
      "Epoch 12/50\n",
      "10794/10794 [==============================] - 0s 32us/sample - loss: 0.2719 - accuracy: 0.8860 - val_loss: 0.2526 - val_accuracy: 0.8911\n",
      "Epoch 13/50\n",
      "10794/10794 [==============================] - 0s 32us/sample - loss: 0.2679 - accuracy: 0.8866 - val_loss: 0.2545 - val_accuracy: 0.8889\n",
      "Epoch 14/50\n",
      "10794/10794 [==============================] - 0s 32us/sample - loss: 0.2730 - accuracy: 0.8853 - val_loss: 0.2531 - val_accuracy: 0.8908\n",
      "Epoch 15/50\n",
      "10794/10794 [==============================] - 0s 33us/sample - loss: 0.2649 - accuracy: 0.8903 - val_loss: 0.2481 - val_accuracy: 0.8936\n",
      "Epoch 16/50\n",
      "10794/10794 [==============================] - 0s 33us/sample - loss: 0.2669 - accuracy: 0.8873 - val_loss: 0.2471 - val_accuracy: 0.8939\n",
      "Epoch 17/50\n",
      "10794/10794 [==============================] - 0s 35us/sample - loss: 0.2634 - accuracy: 0.8899 - val_loss: 0.2490 - val_accuracy: 0.8917\n",
      "Epoch 18/50\n",
      "10794/10794 [==============================] - 0s 34us/sample - loss: 0.2618 - accuracy: 0.8903 - val_loss: 0.2457 - val_accuracy: 0.8947\n",
      "Epoch 19/50\n",
      "10794/10794 [==============================] - 0s 34us/sample - loss: 0.2683 - accuracy: 0.8854 - val_loss: 0.2463 - val_accuracy: 0.8934\n",
      "Epoch 20/50\n",
      "10794/10794 [==============================] - 0s 33us/sample - loss: 0.2661 - accuracy: 0.8874 - val_loss: 0.2453 - val_accuracy: 0.8954\n",
      "Epoch 21/50\n",
      "10794/10794 [==============================] - 0s 34us/sample - loss: 0.2600 - accuracy: 0.8906 - val_loss: 0.2443 - val_accuracy: 0.8960\n",
      "Epoch 22/50\n",
      "10794/10794 [==============================] - 0s 35us/sample - loss: 0.2593 - accuracy: 0.8911 - val_loss: 0.2436 - val_accuracy: 0.8952\n",
      "Epoch 23/50\n",
      "10794/10794 [==============================] - 0s 34us/sample - loss: 0.2605 - accuracy: 0.8923 - val_loss: 0.2442 - val_accuracy: 0.8958\n",
      "Epoch 24/50\n",
      "10794/10794 [==============================] - 0s 36us/sample - loss: 0.2573 - accuracy: 0.8935 - val_loss: 0.2430 - val_accuracy: 0.8945\n",
      "Epoch 25/50\n",
      "10794/10794 [==============================] - 0s 36us/sample - loss: 0.2584 - accuracy: 0.8882 - val_loss: 0.2407 - val_accuracy: 0.8986\n",
      "Epoch 26/50\n",
      "10794/10794 [==============================] - 0s 33us/sample - loss: 0.2597 - accuracy: 0.8878 - val_loss: 0.2395 - val_accuracy: 0.8978\n",
      "Epoch 27/50\n",
      "10794/10794 [==============================] - 0s 33us/sample - loss: 0.2549 - accuracy: 0.8904 - val_loss: 0.2396 - val_accuracy: 0.8978\n",
      "Epoch 28/50\n",
      "10794/10794 [==============================] - 0s 35us/sample - loss: 0.2551 - accuracy: 0.8913 - val_loss: 0.2387 - val_accuracy: 0.8990\n",
      "Epoch 29/50\n",
      "10794/10794 [==============================] - 0s 33us/sample - loss: 0.2555 - accuracy: 0.8918 - val_loss: 0.2367 - val_accuracy: 0.8965\n",
      "Epoch 30/50\n",
      "10794/10794 [==============================] - 0s 33us/sample - loss: 0.2548 - accuracy: 0.8928 - val_loss: 0.2402 - val_accuracy: 0.8960\n",
      "Epoch 31/50\n",
      "10794/10794 [==============================] - 0s 33us/sample - loss: 0.2582 - accuracy: 0.8911 - val_loss: 0.2381 - val_accuracy: 0.8962\n",
      "Epoch 32/50\n",
      "10794/10794 [==============================] - 0s 32us/sample - loss: 0.2530 - accuracy: 0.8917 - val_loss: 0.2366 - val_accuracy: 0.8973\n",
      "Epoch 33/50\n",
      "10794/10794 [==============================] - 0s 31us/sample - loss: 0.2561 - accuracy: 0.8909 - val_loss: 0.2373 - val_accuracy: 0.8969\n",
      "Epoch 34/50\n",
      "10794/10794 [==============================] - 0s 32us/sample - loss: 0.2506 - accuracy: 0.8918 - val_loss: 0.2356 - val_accuracy: 0.8999\n",
      "Epoch 35/50\n",
      "10794/10794 [==============================] - 0s 31us/sample - loss: 0.2530 - accuracy: 0.8895 - val_loss: 0.2348 - val_accuracy: 0.8988\n",
      "Epoch 36/50\n",
      "10794/10794 [==============================] - 0s 31us/sample - loss: 0.2515 - accuracy: 0.8924 - val_loss: 0.2343 - val_accuracy: 0.9003\n",
      "Epoch 37/50\n",
      "10794/10794 [==============================] - 0s 32us/sample - loss: 0.2510 - accuracy: 0.8921 - val_loss: 0.2326 - val_accuracy: 0.9023\n",
      "Epoch 38/50\n",
      "10794/10794 [==============================] - 0s 32us/sample - loss: 0.2471 - accuracy: 0.8960 - val_loss: 0.2325 - val_accuracy: 0.9027\n",
      "Epoch 39/50\n",
      "10794/10794 [==============================] - 0s 31us/sample - loss: 0.2497 - accuracy: 0.8916 - val_loss: 0.2359 - val_accuracy: 0.8971\n",
      "Epoch 40/50\n",
      "10794/10794 [==============================] - 0s 32us/sample - loss: 0.2490 - accuracy: 0.8928 - val_loss: 0.2327 - val_accuracy: 0.9012\n",
      "Epoch 41/50\n",
      "10794/10794 [==============================] - 0s 32us/sample - loss: 0.2534 - accuracy: 0.8923 - val_loss: 0.2313 - val_accuracy: 0.9014\n",
      "Epoch 42/50\n",
      "10794/10794 [==============================] - 0s 32us/sample - loss: 0.2565 - accuracy: 0.8894 - val_loss: 0.2334 - val_accuracy: 0.9006\n",
      "Epoch 43/50\n",
      "10794/10794 [==============================] - 0s 32us/sample - loss: 0.2460 - accuracy: 0.8939 - val_loss: 0.2314 - val_accuracy: 0.9012\n",
      "Epoch 44/50\n",
      "10794/10794 [==============================] - 0s 32us/sample - loss: 0.2441 - accuracy: 0.8966 - val_loss: 0.2285 - val_accuracy: 0.9036\n",
      "Epoch 45/50\n",
      "10794/10794 [==============================] - 0s 34us/sample - loss: 0.2400 - accuracy: 0.8986 - val_loss: 0.2275 - val_accuracy: 0.9036\n",
      "Epoch 46/50\n",
      "10794/10794 [==============================] - 0s 33us/sample - loss: 0.2480 - accuracy: 0.8917 - val_loss: 0.2280 - val_accuracy: 0.9023\n",
      "Epoch 47/50\n",
      "10794/10794 [==============================] - 0s 33us/sample - loss: 0.2393 - accuracy: 0.8982 - val_loss: 0.2271 - val_accuracy: 0.9019\n",
      "Epoch 48/50\n",
      "10794/10794 [==============================] - 0s 35us/sample - loss: 0.2431 - accuracy: 0.8957 - val_loss: 0.2258 - val_accuracy: 0.9027\n",
      "Epoch 49/50\n",
      "10794/10794 [==============================] - 0s 34us/sample - loss: 0.2433 - accuracy: 0.8967 - val_loss: 0.2263 - val_accuracy: 0.9021\n",
      "Epoch 50/50\n",
      "10794/10794 [==============================] - 0s 34us/sample - loss: 0.2382 - accuracy: 0.8994 - val_loss: 0.2234 - val_accuracy: 0.9036\n"
     ]
    },
    {
     "data": {
      "text/plain": [
       "<tensorflow.python.keras.callbacks.History at 0x7f5e89912f50>"
      ]
     },
     "execution_count": 291,
     "metadata": {},
     "output_type": "execute_result"
    }
   ],
   "source": [
    "model.fit(X_train, y_train,\n",
    "          validation_data=(X_test, y_test), \n",
    "          epochs=50,\n",
    "          batch_size=50) "
   ]
  },
  {
   "cell_type": "code",
   "execution_count": 292,
   "metadata": {},
   "outputs": [
    {
     "data": {
      "text/html": [
       "<div>\n",
       "<style scoped>\n",
       "    .dataframe tbody tr th:only-of-type {\n",
       "        vertical-align: middle;\n",
       "    }\n",
       "\n",
       "    .dataframe tbody tr th {\n",
       "        vertical-align: top;\n",
       "    }\n",
       "\n",
       "    .dataframe thead th {\n",
       "        text-align: right;\n",
       "    }\n",
       "</style>\n",
       "<table border=\"1\" class=\"dataframe\">\n",
       "  <thead>\n",
       "    <tr style=\"text-align: right;\">\n",
       "      <th></th>\n",
       "      <th>Actual</th>\n",
       "      <th>Prediction</th>\n",
       "    </tr>\n",
       "  </thead>\n",
       "  <tbody>\n",
       "    <tr>\n",
       "      <th>4291</th>\n",
       "      <td>1</td>\n",
       "      <td>0.969218</td>\n",
       "    </tr>\n",
       "    <tr>\n",
       "      <th>7874</th>\n",
       "      <td>0</td>\n",
       "      <td>0.003057</td>\n",
       "    </tr>\n",
       "    <tr>\n",
       "      <th>3325</th>\n",
       "      <td>1</td>\n",
       "      <td>0.947362</td>\n",
       "    </tr>\n",
       "    <tr>\n",
       "      <th>4048</th>\n",
       "      <td>1</td>\n",
       "      <td>0.897151</td>\n",
       "    </tr>\n",
       "    <tr>\n",
       "      <th>15203</th>\n",
       "      <td>0</td>\n",
       "      <td>0.223162</td>\n",
       "    </tr>\n",
       "    <tr>\n",
       "      <th>...</th>\n",
       "      <td>...</td>\n",
       "      <td>...</td>\n",
       "    </tr>\n",
       "    <tr>\n",
       "      <th>15158</th>\n",
       "      <td>0</td>\n",
       "      <td>0.001502</td>\n",
       "    </tr>\n",
       "    <tr>\n",
       "      <th>7588</th>\n",
       "      <td>1</td>\n",
       "      <td>0.930200</td>\n",
       "    </tr>\n",
       "    <tr>\n",
       "      <th>8537</th>\n",
       "      <td>0</td>\n",
       "      <td>0.004098</td>\n",
       "    </tr>\n",
       "    <tr>\n",
       "      <th>14902</th>\n",
       "      <td>0</td>\n",
       "      <td>0.004999</td>\n",
       "    </tr>\n",
       "    <tr>\n",
       "      <th>12438</th>\n",
       "      <td>0</td>\n",
       "      <td>0.009340</td>\n",
       "    </tr>\n",
       "  </tbody>\n",
       "</table>\n",
       "<p>4626 rows × 2 columns</p>\n",
       "</div>"
      ],
      "text/plain": [
       "       Actual  Prediction\n",
       "4291        1    0.969218\n",
       "7874        0    0.003057\n",
       "3325        1    0.947362\n",
       "4048        1    0.897151\n",
       "15203       0    0.223162\n",
       "...       ...         ...\n",
       "15158       0    0.001502\n",
       "7588        1    0.930200\n",
       "8537        0    0.004098\n",
       "14902       0    0.004999\n",
       "12438       0    0.009340\n",
       "\n",
       "[4626 rows x 2 columns]"
      ]
     },
     "execution_count": 292,
     "metadata": {},
     "output_type": "execute_result"
    }
   ],
   "source": [
    "preds=model.predict(X_test)\n",
    "preds=preds.flatten()\n",
    "data={\"Actual\":y_test,\"Prediction\":preds}\n",
    "pd.DataFrame(data=data)\n"
   ]
  },
  {
   "cell_type": "code",
   "execution_count": 302,
   "metadata": {},
   "outputs": [
    {
     "name": "stdout",
     "output_type": "stream",
     "text": [
      "INFO:tensorflow:Assets written to: Loan_Prediction.hdf/assets\n"
     ]
    }
   ],
   "source": [
    "model.save('Loan_Prediction.hdf')"
   ]
  },
  {
   "cell_type": "code",
   "execution_count": null,
   "metadata": {},
   "outputs": [],
   "source": []
  }
 ],
 "metadata": {
  "kernelspec": {
   "display_name": "Python 3",
   "language": "python",
   "name": "python3"
  },
  "language_info": {
   "codemirror_mode": {
    "name": "ipython",
    "version": 3
   },
   "file_extension": ".py",
   "mimetype": "text/x-python",
   "name": "python",
   "nbconvert_exporter": "python",
   "pygments_lexer": "ipython3",
   "version": "3.7.6"
  }
 },
 "nbformat": 4,
 "nbformat_minor": 4
}
